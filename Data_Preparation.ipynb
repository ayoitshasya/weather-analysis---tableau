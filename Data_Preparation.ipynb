{
 "cells": [
  {
   "cell_type": "code",
   "execution_count": 2,
   "metadata": {},
   "outputs": [],
   "source": [
    "import pandas as pd\n",
    "\n",
    "file_path = 'weather.csv'\n",
    "weather_data = pd.read_csv(file_path)"
   ]
  },
  {
   "cell_type": "code",
   "execution_count": 3,
   "metadata": {},
   "outputs": [],
   "source": [
    "# Handling missing values\n",
    "weather_data.fillna(method='ffill', inplace=True) "
   ]
  },
  {
   "cell_type": "code",
   "execution_count": 4,
   "metadata": {},
   "outputs": [],
   "source": [
    "# Handling outliers\n",
    "outlier_threshold = 3  \n",
    "numeric_columns = ['MinTemp', 'MaxTemp', 'Rainfall', 'Evaporation', 'Sunshine',\n",
    "                    'WindGustSpeed', 'WindSpeed9am', 'WindSpeed3pm',\n",
    "                    'Humidity9am', 'Humidity3pm', 'Pressure9am', 'Pressure3pm',\n",
    "                    'Cloud9am', 'Cloud3pm', 'Temp9am', 'Temp3pm', 'RISK_MM']\n",
    "\n",
    "for column in numeric_columns:\n",
    "    # Calculate IQR for the column\n",
    "    Q1 = weather_data[column].quantile(0.25)\n",
    "    Q3 = weather_data[column].quantile(0.75)\n",
    "    IQR = Q3 - Q1\n",
    "\n",
    "    # Remove outliers based on IQR\n",
    "    weather_data[column] = weather_data[column].clip(lower=Q1 - 1.5 * IQR, upper=Q3 + 1.5 * IQR)"
   ]
  },
  {
   "cell_type": "code",
   "execution_count": 5,
   "metadata": {},
   "outputs": [],
   "source": [
    "# Convert categorical variables to numerical representations\n",
    "weather_data['RainToday'] = weather_data['RainToday'].map({'No': 0, 'Yes': 1})\n",
    "weather_data['RainTomorrow'] = weather_data['RainTomorrow'].map({'No': 0, 'Yes': 1})"
   ]
  },
  {
   "cell_type": "code",
   "execution_count": 6,
   "metadata": {},
   "outputs": [
    {
     "name": "stdout",
     "output_type": "stream",
     "text": [
      "     MinTemp  MaxTemp  Rainfall  Evaporation  Sunshine WindGustDir  \\\n",
      "0        8.0     24.3       0.0          3.4       6.3          NW   \n",
      "1       14.0     26.9       0.5          4.4       9.7         ENE   \n",
      "2       13.7     23.4       0.5          5.8       3.3          NW   \n",
      "3       13.3     15.5       0.5          7.2       9.1          NW   \n",
      "4        7.6     16.1       0.5          5.6      10.6         SSE   \n",
      "..       ...      ...       ...          ...       ...         ...   \n",
      "361      9.0     30.7       0.0          7.6      12.1         NNW   \n",
      "362      7.1     28.4       0.0         11.6      12.7           N   \n",
      "363     12.5     19.9       0.0          8.4       5.3         ESE   \n",
      "364     12.5     26.9       0.0          5.0       7.1          NW   \n",
      "365     12.3     30.2       0.0          6.0      12.6          NW   \n",
      "\n",
      "     WindGustSpeed WindDir9am WindDir3pm  WindSpeed9am  ...  Humidity3pm  \\\n",
      "0             30.0         SW         NW           6.0  ...         29.0   \n",
      "1             39.0          E          W           4.0  ...         36.0   \n",
      "2             68.5          N        NNE           6.0  ...         69.0   \n",
      "3             54.0        WNW          W          23.5  ...         56.0   \n",
      "4             50.0        SSE        ESE          20.0  ...         49.0   \n",
      "..             ...        ...        ...           ...  ...          ...   \n",
      "361           68.5        SSE         NW           7.0  ...         15.0   \n",
      "362           48.0        NNW        NNW           2.0  ...         22.0   \n",
      "363           43.0        ENE        ENE          11.0  ...         47.0   \n",
      "364           46.0        SSW        WNW           6.0  ...         39.0   \n",
      "365           68.5         NW        WNW          23.5  ...         13.0   \n",
      "\n",
      "     Pressure9am  Pressure3pm  Cloud9am  Cloud3pm  Temp9am  Temp3pm  \\\n",
      "0         1019.7       1015.0         7         7     14.4     23.6   \n",
      "1         1012.4       1008.4         5         3     17.5     25.7   \n",
      "2         1009.5       1007.2         8         7     15.4     20.2   \n",
      "3         1005.5       1007.0         2         7     13.5     14.1   \n",
      "4         1018.3       1018.5         7         7     11.1     15.4   \n",
      "..           ...          ...       ...       ...      ...      ...   \n",
      "361       1016.1       1010.8         1         3     20.4     30.0   \n",
      "362       1020.0       1016.9         0         1     17.2     28.2   \n",
      "363       1024.0       1022.8         3         2     14.5     18.3   \n",
      "364       1021.0       1016.2         6         7     15.8     25.9   \n",
      "365       1009.6       1009.2         1         1     23.8     28.6   \n",
      "\n",
      "     RainToday  RISK_MM  RainTomorrow  \n",
      "0            0      0.5             1  \n",
      "1            1      0.5             1  \n",
      "2            1      0.5             1  \n",
      "3            1      0.5             1  \n",
      "4            1      0.0             0  \n",
      "..         ...      ...           ...  \n",
      "361          0      0.0             0  \n",
      "362          0      0.0             0  \n",
      "363          0      0.0             0  \n",
      "364          0      0.0             0  \n",
      "365          0      0.0             0  \n",
      "\n",
      "[366 rows x 22 columns]\n"
     ]
    }
   ],
   "source": [
    "print(weather_data)"
   ]
  },
  {
   "cell_type": "code",
   "execution_count": 7,
   "metadata": {},
   "outputs": [],
   "source": [
    "# # Feature Scaling\n",
    "# from sklearn.preprocessing import StandardScaler\n",
    "\n",
    "# # Extract numerical columns for scaling\n",
    "# numeric_columns = ['MinTemp', 'MaxTemp', 'Rainfall', 'Evaporation', 'Sunshine',\n",
    "#                     'WindGustSpeed', 'WindSpeed9am', 'WindSpeed3pm',\n",
    "#                     'Humidity9am', 'Humidity3pm', 'Pressure9am', 'Pressure3pm',\n",
    "#                     'Cloud9am', 'Cloud3pm', 'Temp9am', 'Temp3pm', 'RISK_MM']\n",
    "\n",
    "# # Initialize the scaler\n",
    "# scaler = StandardScaler()\n",
    "\n",
    "# # Scale numerical features\n",
    "# weather_data[numeric_columns] = scaler.fit_transform(weather_data[numeric_columns])"
   ]
  },
  {
   "cell_type": "code",
   "execution_count": 8,
   "metadata": {},
   "outputs": [],
   "source": [
    "# Perform one-hot encoding for categorical variables\n",
    "weather_data = pd.get_dummies(weather_data, columns=['WindGustDir', 'WindDir9am', 'WindDir3pm'], drop_first=True)"
   ]
  },
  {
   "cell_type": "code",
   "execution_count": 9,
   "metadata": {},
   "outputs": [],
   "source": [
    "import numpy as np\n",
    "\n",
    "# Apply log transformation to skewed columns\n",
    "skewed_columns = ['Rainfall', 'Evaporation', 'Sunshine', 'WindSpeed9am', 'WindSpeed3pm',\n",
    "                  'Humidity9am', 'Humidity3pm', 'Pressure9am', 'Pressure3pm',\n",
    "                  'Cloud9am', 'Cloud3pm', 'Temp9am', 'Temp3pm', 'RISK_MM']\n",
    "\n",
    "weather_data[skewed_columns] = weather_data[skewed_columns].apply(lambda x: np.log1p(x))"
   ]
  },
  {
   "cell_type": "code",
   "execution_count": 10,
   "metadata": {},
   "outputs": [
    {
     "name": "stdout",
     "output_type": "stream",
     "text": [
      "     MinTemp  MaxTemp  Rainfall  Evaporation  Sunshine  WindGustSpeed  \\\n",
      "0        8.0     24.3  0.000000     1.481605  1.987874           30.0   \n",
      "1       14.0     26.9  0.405465     1.686399  2.370244           39.0   \n",
      "2       13.7     23.4  0.405465     1.916923  1.458615           68.5   \n",
      "3       13.3     15.5  0.405465     2.104134  2.312535           54.0   \n",
      "4        7.6     16.1  0.405465     1.887070  2.451005           50.0   \n",
      "..       ...      ...       ...          ...       ...            ...   \n",
      "361      9.0     30.7  0.000000     2.151762  2.572612           68.5   \n",
      "362      7.1     28.4  0.000000     2.533697  2.617396           48.0   \n",
      "363     12.5     19.9  0.000000     2.240710  1.840550           43.0   \n",
      "364     12.5     26.9  0.000000     1.791759  2.091864           46.0   \n",
      "365     12.3     30.2  0.000000     1.945910  2.610070           68.5   \n",
      "\n",
      "     WindSpeed9am  WindSpeed3pm  Humidity9am  Humidity3pm  ...  \\\n",
      "0        1.945910      3.044522     4.234107     3.401197  ...   \n",
      "1        1.609438      2.890372     4.394449     3.610918  ...   \n",
      "2        1.945910      1.945910     4.418841     4.248495  ...   \n",
      "3        3.198673      3.218876     4.143135     4.043051  ...   \n",
      "4        3.044522      3.367296     4.234107     3.912023  ...   \n",
      "..            ...           ...          ...          ...  ...   \n",
      "361      2.079442      3.795489     3.676301     2.772589  ...   \n",
      "362      1.098612      2.995732     3.828641     3.135494  ...   \n",
      "363      2.484907      2.302585     4.158883     3.871201  ...   \n",
      "364      1.945910      3.367296     4.248495     3.688879  ...   \n",
      "365      3.198673      3.583519     3.784190     2.639057  ...   \n",
      "\n",
      "     WindDir3pm_NNW  WindDir3pm_NW  WindDir3pm_S  WindDir3pm_SE  \\\n",
      "0                 0              1             0              0   \n",
      "1                 0              0             0              0   \n",
      "2                 0              0             0              0   \n",
      "3                 0              0             0              0   \n",
      "4                 0              0             0              0   \n",
      "..              ...            ...           ...            ...   \n",
      "361               0              1             0              0   \n",
      "362               1              0             0              0   \n",
      "363               0              0             0              0   \n",
      "364               0              0             0              0   \n",
      "365               0              0             0              0   \n",
      "\n",
      "     WindDir3pm_SSE  WindDir3pm_SSW  WindDir3pm_SW  WindDir3pm_W  \\\n",
      "0                 0               0              0             0   \n",
      "1                 0               0              0             1   \n",
      "2                 0               0              0             0   \n",
      "3                 0               0              0             1   \n",
      "4                 0               0              0             0   \n",
      "..              ...             ...            ...           ...   \n",
      "361               0               0              0             0   \n",
      "362               0               0              0             0   \n",
      "363               0               0              0             0   \n",
      "364               0               0              0             0   \n",
      "365               0               0              0             0   \n",
      "\n",
      "     WindDir3pm_WNW  WindDir3pm_WSW  \n",
      "0                 0               0  \n",
      "1                 0               0  \n",
      "2                 0               0  \n",
      "3                 0               0  \n",
      "4                 0               0  \n",
      "..              ...             ...  \n",
      "361               0               0  \n",
      "362               0               0  \n",
      "363               0               0  \n",
      "364               1               0  \n",
      "365               1               0  \n",
      "\n",
      "[366 rows x 64 columns]\n"
     ]
    }
   ],
   "source": [
    "print(weather_data)"
   ]
  },
  {
   "cell_type": "code",
   "execution_count": 11,
   "metadata": {},
   "outputs": [],
   "source": [
    "output_file_path = 'preprocessed_weather_data.csv'\n",
    "weather_data.to_csv(output_file_path, index=False)"
   ]
  },
  {
   "cell_type": "code",
   "execution_count": null,
   "metadata": {},
   "outputs": [],
   "source": []
  }
 ],
 "metadata": {
  "kernelspec": {
   "display_name": "Python 3",
   "language": "python",
   "name": "python3"
  },
  "language_info": {
   "codemirror_mode": {
    "name": "ipython",
    "version": 3
   },
   "file_extension": ".py",
   "mimetype": "text/x-python",
   "name": "python",
   "nbconvert_exporter": "python",
   "pygments_lexer": "ipython3",
   "version": "3.10.5"
  }
 },
 "nbformat": 4,
 "nbformat_minor": 2
}
